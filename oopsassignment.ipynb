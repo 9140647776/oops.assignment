{
 "cells": [
  {
   "cell_type": "code",
   "execution_count": null,
   "id": "3e933c3c-2ae6-41c6-aaaf-472b6f79f192",
   "metadata": {},
   "outputs": [],
   "source": [
    "## CONSTRUCTOR"
   ]
  },
  {
   "cell_type": "code",
   "execution_count": 1,
   "id": "9ed1e8a3-a458-4c0e-b5b2-a7479bf1c1d7",
   "metadata": {},
   "outputs": [
    {
     "name": "stdout",
     "output_type": "stream",
     "text": [
      "johan\n",
      "30\n"
     ]
    }
   ],
   "source": [
    "class person:\n",
    "    def __init__(self , name, age):\n",
    "        self.name = name\n",
    "        self.age = age\n",
    "        \n",
    "person = person(\"johan\", 30)\n",
    "print(person.name)\n",
    "print(person.age)"
   ]
  },
  {
   "cell_type": "code",
   "execution_count": 3,
   "id": "35711ae7-778e-472e-905d-860c42db9438",
   "metadata": {},
   "outputs": [],
   "source": [
    "class myclass:\n",
    "    def __init__(self):\n",
    "        print(\"this is a parameterless constructor\")"
   ]
  },
  {
   "cell_type": "code",
   "execution_count": 1,
   "id": "94f90f9c-6f73-40d7-8e42-72877a1da1c3",
   "metadata": {},
   "outputs": [
    {
     "name": "stdout",
     "output_type": "stream",
     "text": [
      "johan doe\n",
      "30\n"
     ]
    }
   ],
   "source": [
    "class person:\n",
    "    def __init__(self, name, age):\n",
    "        self.name = name\n",
    "        self.age = age\n",
    "        \n",
    "p = person(\"johan doe\", 30)\n",
    "\n",
    "print(p.name)\n",
    "print(p.age)"
   ]
  },
  {
   "cell_type": "code",
   "execution_count": 3,
   "id": "4a98cc63-2e84-49e3-80e5-3fb59aa61832",
   "metadata": {},
   "outputs": [],
   "source": [
    "class person:\n",
    "    def __init__(self, name):\n",
    "        self.name = name"
   ]
  },
  {
   "cell_type": "code",
   "execution_count": 6,
   "id": "aa6b5db2-20d3-4523-9ab6-eed2c19619dd",
   "metadata": {},
   "outputs": [
    {
     "name": "stdout",
     "output_type": "stream",
     "text": [
      "suraj\n",
      "25\n"
     ]
    }
   ],
   "source": [
    "class employee:\n",
    "    def __init__(self, name, age):\n",
    "        self.name = name\n",
    "        self.age = age\n",
    "        \n",
    "employee=employee(\"suraj\",25)\n",
    "print(employee.name)\n",
    "print(employee.age)"
   ]
  },
  {
   "cell_type": "code",
   "execution_count": 7,
   "id": "c97e68e0-4d2d-4227-99e6-e128345f52fa",
   "metadata": {},
   "outputs": [
    {
     "name": "stdout",
     "output_type": "stream",
     "text": [
      "base constructor\n",
      "child constructor\n"
     ]
    }
   ],
   "source": [
    "class base:\n",
    "    def __init__(self):\n",
    "        print(\"base constructor\")\n",
    "        \n",
    "class child(base):\n",
    "    def __init__(self):\n",
    "        super().__init__()\n",
    "        print(\"child constructor\")\n",
    "        \n",
    "obj = child()\n",
    "        \n"
   ]
  },
  {
   "cell_type": "code",
   "execution_count": 10,
   "id": "50ba9cbd-3f1a-4bfe-82bf-877e258a747d",
   "metadata": {},
   "outputs": [
    {
     "name": "stdout",
     "output_type": "stream",
     "text": [
      "my address is albert street\n"
     ]
    }
   ],
   "source": [
    "class address:\n",
    "    def __init__(mine, street, number):\n",
    "        mine.street = street\n",
    "        mine.number = number\n",
    "        \n",
    "    def myfunc(abc):\n",
    "        print(\"my address is \" + abc.street)\n",
    "        \n",
    "p1 = address(\"albert street\", 20)\n",
    "p1.myfunc()"
   ]
  },
  {
   "cell_type": "code",
   "execution_count": 11,
   "id": "c5fc53c1-90fe-43dc-93fc-0117f80a9da8",
   "metadata": {},
   "outputs": [
    {
     "name": "stdout",
     "output_type": "stream",
     "text": [
      "abhishek\n"
     ]
    }
   ],
   "source": [
    "class abhishek:\n",
    "    def __init__(self):\n",
    "        self.abhishek = \"abhishek\"\n",
    "    def print_abhishek(self):\n",
    "        print(self.abhishek)\n",
    "        \n",
    "obj = abhishek()\n",
    "obj.print_abhishek()"
   ]
  },
  {
   "cell_type": "code",
   "execution_count": 12,
   "id": "384abd18-fde1-4158-83fa-ddb0029a8271",
   "metadata": {},
   "outputs": [
    {
     "name": "stdout",
     "output_type": "stream",
     "text": [
      "the area of the rectangle is 6\n"
     ]
    }
   ],
   "source": [
    "class rectangle:\n",
    "    def __init__(self,width,height):\n",
    "        self.width = width\n",
    "        self.height = height\n",
    "        \n",
    "    def area(self):\n",
    "        return self.width*self.height\n",
    "print(\"the area of the rectangle is\", rectangle(2,3).area())"
   ]
  },
  {
   "cell_type": "code",
   "execution_count": 17,
   "id": "7716a579-d525-40e7-91da-7b4367c344b4",
   "metadata": {},
   "outputs": [
    {
     "ename": "AttributeError",
     "evalue": "'address' object has no attribute 'print_info'",
     "output_type": "error",
     "traceback": [
      "\u001b[0;31m---------------------------------------------------------------------------\u001b[0m",
      "\u001b[0;31mAttributeError\u001b[0m                            Traceback (most recent call last)",
      "Cell \u001b[0;32mIn[17], line 1\u001b[0m\n\u001b[0;32m----> 1\u001b[0m \u001b[38;5;28;01mclass\u001b[39;00m \u001b[38;5;21;01mperson\u001b[39;00m:\n\u001b[1;32m      2\u001b[0m     \u001b[38;5;28;01mdef\u001b[39;00m \u001b[38;5;21m__init__\u001b[39m(\u001b[38;5;28mself\u001b[39m,name,age):\n\u001b[1;32m      3\u001b[0m         \u001b[38;5;28mself\u001b[39m\u001b[38;5;241m.\u001b[39mname \u001b[38;5;241m=\u001b[39m name\n",
      "Cell \u001b[0;32mIn[17], line 13\u001b[0m, in \u001b[0;36mperson\u001b[0;34m()\u001b[0m\n\u001b[1;32m     10\u001b[0m     p1 \u001b[38;5;241m=\u001b[39m person(\u001b[38;5;124m\"\u001b[39m\u001b[38;5;124msuraj singh\u001b[39m\u001b[38;5;124m\"\u001b[39m, \u001b[38;5;241m30\u001b[39m)\n\u001b[1;32m     11\u001b[0m     p2 \u001b[38;5;241m=\u001b[39m person(\u001b[38;5;124m\"\u001b[39m\u001b[38;5;124msuraj singh\u001b[39m\u001b[38;5;124m\"\u001b[39m)\n\u001b[0;32m---> 13\u001b[0m \u001b[43mp1\u001b[49m\u001b[38;5;241;43m.\u001b[39;49m\u001b[43mprint_info\u001b[49m()\n\u001b[1;32m     14\u001b[0m p2\u001b[38;5;241m.\u001b[39mprint_info()\n",
      "\u001b[0;31mAttributeError\u001b[0m: 'address' object has no attribute 'print_info'"
     ]
    }
   ],
   "source": [
    "class person:\n",
    "    def __init__(self,name,age):\n",
    "        self.name = name\n",
    "        self.age = age\n",
    "    def __init__(self, name):\n",
    "        self.name = name\n",
    "        self.age = none\n",
    "    def print_info(self):\n",
    "        print(\"name:\", self.name, \"age:\", self.age)\n",
    "        p1 = person(\"suraj singh\", 30)\n",
    "        p2 = person(\"suraj singh\")\n",
    "                    \n",
    "    p1.print_info()\n",
    "    p2.print_info()"
   ]
  },
  {
   "cell_type": "code",
   "execution_count": 1,
   "id": "eafdee30-c467-45c8-b3df-a79de5eba052",
   "metadata": {},
   "outputs": [
    {
     "name": "stdout",
     "output_type": "stream",
     "text": [
      "animal type: mammal\n",
      "mammals give birth directly\n"
     ]
    }
   ],
   "source": [
    "class animal(object):\n",
    "    def __init__(self, animal_type):\n",
    "        print('animal type:', animal_type)\n",
    "        \n",
    "class mammal(animal):\n",
    "    def __init__(self):\n",
    "        super().__init__('mammal')\n",
    "        print('mammals give birth directly')\n",
    "dog = mammal()"
   ]
  },
  {
   "cell_type": "code",
   "execution_count": 6,
   "id": "9396110e-a2b8-4b65-94f5-cdbfdc915878",
   "metadata": {},
   "outputs": [],
   "source": [
    "class myclass:\n",
    "    \n",
    "    def __init__(self, name):\n",
    "        self.name = name\n",
    "    def say_hello(self):\n",
    "        print(\"hello, my name is {}\".formate(self.name))\n",
    "        \n"
   ]
  },
  {
   "cell_type": "code",
   "execution_count": 4,
   "id": "9484958d-3b38-4968-9b18-d120bda99d41",
   "metadata": {},
   "outputs": [
    {
     "name": "stdout",
     "output_type": "stream",
     "text": [
      "object 1\n",
      "name: abhishek\n",
      "age: 25\n",
      "object 2\n",
      "name: kelly\n",
      "age: 10\n"
     ]
    }
   ],
   "source": [
    "class student:\n",
    "    def __init__(self, name, age):\n",
    "        self.name = name\n",
    "        self.age = age\n",
    "s1 = student(\"abhishek\", 25)\n",
    "print('object 1')\n",
    "print('name:', s1.name)\n",
    "print('age:', s1.age)\n",
    "      \n",
    "s2 = student(\"kelly\",10)\n",
    "print('object 2')\n",
    "print('name:', s2.name)\n",
    "print('age:', s2.age)\n",
    "      "
   ]
  },
  {
   "cell_type": "code",
   "execution_count": 17,
   "id": "ebb756a7-a0c3-477c-8962-9d6135346ac8",
   "metadata": {},
   "outputs": [],
   "source": [
    "class response(object):\n",
    "    def from_xml(sourse):\n",
    "        ret = responce()\n",
    "        return ret\n",
    "    def from_json(source):\n",
    "        pass"
   ]
  },
  {
   "cell_type": "code",
   "execution_count": 18,
   "id": "c8566b59-387b-4d0b-84d3-88c2341e447d",
   "metadata": {},
   "outputs": [
    {
     "ename": "NameError",
     "evalue": "name 'responce' is not defined",
     "output_type": "error",
     "traceback": [
      "\u001b[0;31m---------------------------------------------------------------------------\u001b[0m",
      "\u001b[0;31mNameError\u001b[0m                                 Traceback (most recent call last)",
      "Cell \u001b[0;32mIn[18], line 1\u001b[0m\n\u001b[0;32m----> 1\u001b[0m r \u001b[38;5;241m=\u001b[39m \u001b[43mresponce\u001b[49m()\n\u001b[1;32m      2\u001b[0m r \u001b[38;5;241m=\u001b[39m responce\u001b[38;5;241m.\u001b[39mfrom_json(source)\n",
      "\u001b[0;31mNameError\u001b[0m: name 'responce' is not defined"
     ]
    }
   ],
   "source": [
    "r = responce()\n",
    "r = responce.from_json(source)"
   ]
  },
  {
   "cell_type": "code",
   "execution_count": 2,
   "id": "ff5590c3-9472-4517-b89a-9c18c1b3e79d",
   "metadata": {},
   "outputs": [],
   "source": [
    "class myclass:\n",
    "    def __init__(self):\n",
    "        print(\"myclass object created\")\n",
    "    def __del__(self):\n",
    "        print(\"myclass object deleted\")"
   ]
  },
  {
   "cell_type": "code",
   "execution_count": 3,
   "id": "5f2e42f2-15b5-4a14-80fb-8f4eac2ced13",
   "metadata": {},
   "outputs": [],
   "source": [
    "class Human(object):\n",
    "    def __init__(self):\n",
    "        print(\"Hi this is Human constructor\")\n",
    "        \n",
    "    def whoAmI(self):\n",
    "        print(\"I am Human\")\n",
    "class Man(Human):\n",
    "    def __init__(self):\n",
    "        print(\"Hi this is Man constructor\")\n",
    "    def whoAmI(self):\n",
    "        print(\"I am Man\")\n",
    "\n",
    "class Woman(Human):\n",
    "    def __init__(self):\n",
    "        print(\"I am Woman\")"
   ]
  },
  {
   "cell_type": "code",
   "execution_count": null,
   "id": "b97f7502-39b9-4a18-81ad-605848789aa4",
   "metadata": {},
   "outputs": [],
   "source": [
    "## INHERITANCE"
   ]
  },
  {
   "cell_type": "code",
   "execution_count": 2,
   "id": "1dec38d6-b9f2-4f8a-af42-2ca1d7cb6414",
   "metadata": {},
   "outputs": [
    {
     "name": "stdout",
     "output_type": "stream",
     "text": [
      "abhisek 102\n"
     ]
    }
   ],
   "source": [
    "class person(object):\n",
    "    def __init__(self, name, id):\n",
    "        self.name = name\n",
    "        self.id = id\n",
    "        \n",
    "    def display(self):\n",
    "        print(self.name, self.id)\n",
    "        \n",
    "emp = person(\"abhisek\", 102)\n",
    "emp.display()"
   ]
  },
  {
   "cell_type": "code",
   "execution_count": 4,
   "id": "47fc3344-a29e-4e3d-992c-6f0a3ea57680",
   "metadata": {},
   "outputs": [
    {
     "name": "stdout",
     "output_type": "stream",
     "text": [
      "red\n",
      "100\n",
      "honda\n"
     ]
    }
   ],
   "source": [
    "class vehicle:\n",
    "    def __init__(self, color, speed):\n",
    "        self.color = color\n",
    "        self.speed = speed\n",
    "class car(vehicle):\n",
    "    def __init__(self, color, speed, brand):\n",
    "        super().__init__(color, speed)\n",
    "        self.brand = brand\n",
    "        \n",
    "car = car(\"red\", 100, \"honda\")\n",
    "\n",
    "print(car.color)\n",
    "print(car.speed)\n",
    "print(car.brand)"
   ]
  },
  {
   "cell_type": "code",
   "execution_count": 5,
   "id": "29ac90a9-a902-42ef-ba82-4a7efc03ba94",
   "metadata": {},
   "outputs": [
    {
     "name": "stdout",
     "output_type": "stream",
     "text": [
      "inside parent\n",
      "inside child\n"
     ]
    }
   ],
   "source": [
    "class parent():\n",
    "    def __init__(self):\n",
    "        self.value = \"inside parent\"\n",
    "    def show(self):\n",
    "        print(self.value)\n",
    "class child(parent):\n",
    "    def __init__(self):\n",
    "        self.value = \"inside child\"\n",
    "    def show(self):\n",
    "        print(self.value)\n",
    "        \n",
    "obj1 = parent()\n",
    "obj2 = child()\n",
    "\n",
    "obj1.show()\n",
    "obj2.show()"
   ]
  },
  {
   "cell_type": "code",
   "execution_count": 1,
   "id": "75e64d34-af86-4bf4-a3e6-21b3e34cb6c1",
   "metadata": {},
   "outputs": [
    {
     "name": "stdout",
     "output_type": "stream",
     "text": [
      "animal type: mammal\n",
      "mammals give birth directly\n"
     ]
    }
   ],
   "source": [
    "class animal(object):\n",
    "    def __init__(self, animal_type):\n",
    "        print('animal type:', animal_type)\n",
    "        \n",
    "class mammal(animal):\n",
    "    def __init__(self):\n",
    "        \n",
    "        super().__init__('mammal')\n",
    "        print('mammals give birth directly')\n",
    "dog = mammal()"
   ]
  },
  {
   "cell_type": "code",
   "execution_count": 3,
   "id": "c4c9930d-0bff-4724-8141-ca1795e9aa88",
   "metadata": {},
   "outputs": [
    {
     "name": "stdout",
     "output_type": "stream",
     "text": [
      "i can eat\n",
      "my name is pohu\n"
     ]
    }
   ],
   "source": [
    "class animal:\n",
    "    name = \"\"\n",
    "    def eat(self):\n",
    "        print(\"i can eat\")\n",
    "        \n",
    "class dog(animal):\n",
    "    def display(self):\n",
    "        print(\"my name is\", self.name)\n",
    "        \n",
    "labrador = dog()\n",
    "labrador.name = \"pohu\"\n",
    "labrador.eat()\n",
    "labrador.display()"
   ]
  },
  {
   "cell_type": "code",
   "execution_count": 4,
   "id": "d22c1a92-21fe-4d71-a494-bc34a2aace1f",
   "metadata": {},
   "outputs": [
    {
     "name": "stdout",
     "output_type": "stream",
     "text": [
      "True\n"
     ]
    }
   ],
   "source": [
    "class myobj:\n",
    "    name = \"dear\"\n",
    "y = myobj()\n",
    "x = isinstance(y, myobj)\n",
    "print(x)"
   ]
  },
  {
   "cell_type": "code",
   "execution_count": 7,
   "id": "f36327ed-faef-4bea-8176-3c0f7a3566df",
   "metadata": {},
   "outputs": [
    {
     "name": "stdout",
     "output_type": "stream",
     "text": [
      "True\n"
     ]
    }
   ],
   "source": [
    "class myAge:\n",
    "    age = 35\n",
    "class myobj(myAge):\n",
    "    name = \"charls\"\n",
    "    age = myAge\n",
    "x = issubclass(myobj, myAge)\n",
    "print(x)\n",
    "        "
   ]
  },
  {
   "cell_type": "code",
   "execution_count": 8,
   "id": "0958dbac-1cd6-4912-aa90-f09247ccc109",
   "metadata": {},
   "outputs": [
    {
     "name": "stdout",
     "output_type": "stream",
     "text": [
      "78.53975\n",
      "200\n"
     ]
    }
   ],
   "source": [
    "class shape:\n",
    "    def __init__(self):\n",
    "        pass\n",
    "    def area(self):\n",
    "        raise notimplementederror\n",
    "class circle(shape):\n",
    "    def __init__(self, radius):\n",
    "        self.radius = radius\n",
    "    def area(self):\n",
    "        return 3.14159 * self.radius ** 2\n",
    "class rectangle (shape):\n",
    "    def __init__(self, width, height):\n",
    "        self.width = width\n",
    "        self.height = height\n",
    "    def area(self):\n",
    "        return self.width * self.height\n",
    "circle = circle(5)\n",
    "print(circle.area())\n",
    "rectangle = rectangle(10, 20)\n",
    "print(rectangle.area())\n",
    "    "
   ]
  },
  {
   "cell_type": "code",
   "execution_count": 12,
   "id": "5d738324-3029-4651-8f34-b04336cecad4",
   "metadata": {},
   "outputs": [
    {
     "name": "stdout",
     "output_type": "stream",
     "text": [
      "charls\n",
      "100000\n",
      "engineering\n"
     ]
    }
   ],
   "source": [
    "class employee:\n",
    "    def __init__(self, name, salary):\n",
    "        self.name = name\n",
    "        self.salary = salary\n",
    "class manager(employee):\n",
    "    def __init__(self, name, salary, department):\n",
    "        super().__init__(name,salary)\n",
    "        self.department = department\n",
    "manager = manager(\"charls\", 100000, \"engineering\")\n",
    "print(manager.name)\n",
    "print(manager.salary)\n",
    "print(manager.department)"
   ]
  },
  {
   "cell_type": "code",
   "execution_count": 13,
   "id": "47c81aee-1677-4a5e-ba96-af88354a5e79",
   "metadata": {},
   "outputs": [
    {
     "name": "stdout",
     "output_type": "stream",
     "text": [
      "hello, my name is nikhil\n"
     ]
    }
   ],
   "source": [
    "class child:\n",
    "    def __init__(self, name):\n",
    "        self.name = name\n",
    "    def say_hi(self):\n",
    "        print('hello, my name is', self.name)\n",
    "c = child('nikhil')\n",
    "c.say_hi()"
   ]
  },
  {
   "cell_type": "code",
   "execution_count": 19,
   "id": "2d44e04d-8f4c-4f33-86f3-7c7e6d049392",
   "metadata": {},
   "outputs": [
    {
     "name": "stdout",
     "output_type": "stream",
     "text": [
      "in class2\n"
     ]
    }
   ],
   "source": [
    "class class1:\n",
    "    def m(self):\n",
    "        print(\"in class1\")\n",
    "class class2(class1):\n",
    "    def m(self):\n",
    "        print(\"in class2\")\n",
    "class class3(class1):\n",
    "    def m(self):\n",
    "        print(\"in class3\")\n",
    "class class4(class2, class3):\n",
    "    pass\n",
    "obj = class4()\n",
    "obj.m()"
   ]
  },
  {
   "cell_type": "code",
   "execution_count": null,
   "id": "744826a9-3c92-4e09-912c-744d571fd29b",
   "metadata": {},
   "outputs": [],
   "source": [
    "#ENCAPSULATION"
   ]
  },
  {
   "cell_type": "code",
   "execution_count": null,
   "id": "38b92447-b053-4f54-bee7-f648f3ee0b9e",
   "metadata": {},
   "outputs": [],
   "source": [
    "# ans 1 & 3"
   ]
  },
  {
   "cell_type": "code",
   "execution_count": 1,
   "id": "64970ef4-bb7e-49d0-a00c-e891fc0f1508",
   "metadata": {},
   "outputs": [
    {
     "name": "stdout",
     "output_type": "stream",
     "text": [
      "calling protected member of base class: 2\n",
      "calling modified protected member outside class: 2\n",
      "accessing protected member of obj1: 2\n",
      "accessing protected member of obj2: 2\n"
     ]
    }
   ],
   "source": [
    "class base:\n",
    "    def __init__(self):\n",
    "        self._a = 2\n",
    "class derived(base):\n",
    "    def __init__(self):\n",
    "        base.__init__(self)\n",
    "        print(\"calling protected member of base class:\", self._a)\n",
    "        print(\"calling modified protected member outside class:\", self._a)\n",
    "obj1 = derived()\n",
    "obj2 = base()\n",
    "print(\"accessing protected member of obj1:\", obj1._a)\n",
    "print(\"accessing protected member of obj2:\", obj2._a)"
   ]
  },
  {
   "cell_type": "code",
   "execution_count": 3,
   "id": "736b6395-f75f-448e-b8ad-2e60cd77e211",
   "metadata": {},
   "outputs": [],
   "source": [
    " class parent:\n",
    "    def __init__(self):\n",
    "        self._private_member = 10\n",
    "        self.public_member = 20\n",
    "    def protected_member(self):\n",
    "        return 30\n",
    "class child(parent):\n",
    "    def __init__(self):\n",
    "        super().__init__()\n",
    "        print(self._private_member)\n",
    "        print(self.public_member)\n",
    "        print(self.protected_member())"
   ]
  },
  {
   "cell_type": "code",
   "execution_count": 4,
   "id": "d0c3b272-e284-478c-a964-b8517fcf447f",
   "metadata": {},
   "outputs": [
    {
     "name": "stdout",
     "output_type": "stream",
     "text": [
      "public method\n",
      "private method\n"
     ]
    }
   ],
   "source": [
    "class A:\n",
    "    def fun(self):\n",
    "        print(\"public method\")\n",
    "    def __fun(self):\n",
    "        print(\"private method\")\n",
    "    def help(self):\n",
    "        self.fun()\n",
    "        self.__fun()\n",
    "obj = A()\n",
    "obj.help()"
   ]
  },
  {
   "cell_type": "code",
   "execution_count": 5,
   "id": "fbc83b5c-2c0c-4724-a795-11dda17e6aa0",
   "metadata": {},
   "outputs": [
    {
     "name": "stdout",
     "output_type": "stream",
     "text": [
      "24\n",
      "24\n"
     ]
    }
   ],
   "source": [
    "class india:\n",
    "    def __init__(self, age = 0):\n",
    "        self._age = age\n",
    "    def get_age(self):\n",
    "        return self._age\n",
    "    def set_age(self, x):\n",
    "        self._age = x\n",
    "raj = india()\n",
    "raj.set_age(24)\n",
    "print(raj.get_age())\n",
    "print(raj._age)"
   ]
  },
  {
   "cell_type": "code",
   "execution_count": 6,
   "id": "6762208e-9f91-4f24-9ec1-834495755223",
   "metadata": {},
   "outputs": [
    {
     "name": "stdout",
     "output_type": "stream",
     "text": [
      "hello!!! welcome to the deposite & withdrawl machine\n"
     ]
    },
    {
     "name": "stdin",
     "output_type": "stream",
     "text": [
      "enter amount to be deposited : 5000\n"
     ]
    },
    {
     "name": "stdout",
     "output_type": "stream",
     "text": [
      "\n",
      " amount deposited: 5000.0\n"
     ]
    },
    {
     "name": "stdin",
     "output_type": "stream",
     "text": [
      "enter amount to be withdrawn: 4000\n"
     ]
    },
    {
     "name": "stdout",
     "output_type": "stream",
     "text": [
      "\n",
      " you withdraw: 4000.0\n",
      "\n",
      " net available balance= 1000.0\n"
     ]
    }
   ],
   "source": [
    "class bank_account:\n",
    "    def __init__(self):\n",
    "        self.balance=0\n",
    "        print(\"hello!!! welcome to the deposite & withdrawl machine\")\n",
    "    def deposite(self):\n",
    "        amount=float(input(\"enter amount to be deposited :\"))\n",
    "        self.balance += amount\n",
    "        print(\"\\n amount deposited:\",amount)\n",
    "    def withdraw(self):\n",
    "        amount = float(input(\"enter amount to be withdrawn:\"))\n",
    "        if self.balance>=amount:\n",
    "            self.balance-=amount\n",
    "            print(\"\\n you withdraw:\",amount)\n",
    "        else:\n",
    "            print(\"\\n insufficient balance \")\n",
    "    def display(self):\n",
    "        print(\"\\n net available balance=\",self.balance)\n",
    "s = bank_account()\n",
    "s.deposite()\n",
    "s.withdraw()\n",
    "s.display()"
   ]
  },
  {
   "cell_type": "code",
   "execution_count": 2,
   "id": "cfc71c38-eabc-4fee-a48d-5421c8c651e7",
   "metadata": {},
   "outputs": [
    {
     "name": "stdout",
     "output_type": "stream",
     "text": [
      "50000\n"
     ]
    }
   ],
   "source": [
    "class employee:\n",
    "    def __init__(self):\n",
    "       self.__salary=0\n",
    "    def set_salary(self,salary):\n",
    "        self.__salary=salary\n",
    "    def get_salary(self):\n",
    "        return self.__salary\n",
    "e = employee()\n",
    "e.set_salary(50000)\n",
    "print(e.get_salary())"
   ]
  },
  {
   "cell_type": "code",
   "execution_count": 4,
   "id": "1131cc90-d828-47fa-b28d-988dced1c2df",
   "metadata": {},
   "outputs": [
    {
     "name": "stdout",
     "output_type": "stream",
     "text": [
      "vivek\n"
     ]
    },
    {
     "ename": "AttributeError",
     "evalue": "'student' object has no attribute '__name'",
     "output_type": "error",
     "traceback": [
      "\u001b[0;31m---------------------------------------------------------------------------\u001b[0m",
      "\u001b[0;31mAttributeError\u001b[0m                            Traceback (most recent call last)",
      "Cell \u001b[0;32mIn[4], line 9\u001b[0m\n\u001b[1;32m      7\u001b[0m s1 \u001b[38;5;241m=\u001b[39m student(\u001b[38;5;124m\"\u001b[39m\u001b[38;5;124mvivek\u001b[39m\u001b[38;5;124m\"\u001b[39m)\n\u001b[1;32m      8\u001b[0m s1\u001b[38;5;241m.\u001b[39mdisplayname()\n\u001b[0;32m----> 9\u001b[0m \u001b[38;5;28mprint\u001b[39m(\u001b[43ms1\u001b[49m\u001b[38;5;241;43m.\u001b[39;49m\u001b[43m__name\u001b[49m)\n",
      "\u001b[0;31mAttributeError\u001b[0m: 'student' object has no attribute '__name'"
     ]
    }
   ],
   "source": [
    "class student:\n",
    "    def __init__(self, name):\n",
    "        self.__name = name\n",
    "    def displayname(self):\n",
    "        print(self.__name)\n",
    "        \n",
    "s1 = student(\"vivek\")\n",
    "s1.displayname()\n",
    "print(s1.__name)\n",
    "    "
   ]
  },
  {
   "cell_type": "code",
   "execution_count": 5,
   "id": "02a50ae3-3391-4275-b9e9-7eadff7d928b",
   "metadata": {},
   "outputs": [],
   "source": [
    "class person:\n",
    "    def __init__(self, name, age):\n",
    "        self.name = name\n",
    "        selg.age = age\n",
    "class student(person):\n",
    "    def __init__(self, name, age, grade):\n",
    "        super().__init__(name, age)\n",
    "        self.grade = grade\n",
    "class teacher(person):\n",
    "    def __init__(self, name, age, subject):\n",
    "        super().__init__(name, age)\n",
    "        self.subject = subject\n",
    "class course:\n",
    "    def __init__(self, name, subject, teacher):\n",
    "        self.name = name\n",
    "        self.subject = subject\n",
    "        self.teacher = teacher"
   ]
  },
  {
   "cell_type": "code",
   "execution_count": 6,
   "id": "f4b57230-5d6a-40d5-a6ed-0f3e9d826c68",
   "metadata": {},
   "outputs": [
    {
     "name": "stdout",
     "output_type": "stream",
     "text": [
      "the name of the person is: jack\n"
     ]
    }
   ],
   "source": [
    " class person:\n",
    "        def __init__(self, name, age):\n",
    "            self.name = name\n",
    "            self.age = age\n",
    "        @property\n",
    "        def person_name(self):\n",
    "            return self.name\n",
    "if __name__==\"__main__\":\n",
    "    jack = person(\"jack\", 25)\n",
    "    print(\"the name of the person is:\", jack.person_name)"
   ]
  },
  {
   "cell_type": "code",
   "execution_count": 8,
   "id": "7bdd1f59-3732-4417-b8e1-84730319c68a",
   "metadata": {},
   "outputs": [
    {
     "name": "stdout",
     "output_type": "stream",
     "text": [
      "id\t\t: 1\n",
      "name\t: pankaj\n",
      "gender\t: male\n",
      "city\t: delhi\n",
      "salary\t: 55000\n"
     ]
    }
   ],
   "source": [
    "class employee:\n",
    "    __id=0\n",
    "    __name=\"\"\n",
    "    __gender=\"\"\n",
    "    __city=\"\"\n",
    "    __salary=0\n",
    "    \n",
    "    def setdata(self, id,name,gender,city,salary):\n",
    "        self.__id=id\n",
    "        self.__name = name\n",
    "        self.__gender = gender\n",
    "        self.__city= city\n",
    "        self.__salary = salary\n",
    "    def showdata(self):\n",
    "        print(\"id\\t\\t:\",self.__id)\n",
    "        print(\"name\\t:\", self.__name)\n",
    "        print(\"gender\\t:\", self.__gender)\n",
    "        print(\"city\\t:\", self.__city)\n",
    "        print(\"salary\\t:\", self.__salary)\n",
    "def main():\n",
    "    emp=employee()\n",
    "    emp.setdata(1, 'pankaj', 'male', 'delhi', 55000)\n",
    "    emp.showdata()\n",
    "if __name__==\"__main__\":\n",
    "    main()\n",
    "    "
   ]
  },
  {
   "cell_type": "code",
   "execution_count": null,
   "id": "3063c98e-3a5a-4a3c-88b9-57bc58d3b495",
   "metadata": {},
   "outputs": [],
   "source": [
    "## accessor and mutator in python"
   ]
  },
  {
   "cell_type": "code",
   "execution_count": 9,
   "id": "072ec1a4-1993-4f43-bb1c-1f6cde1b305b",
   "metadata": {},
   "outputs": [
    {
     "name": "stdout",
     "output_type": "stream",
     "text": [
      "5\n",
      "2\n",
      "array('i', [5, 3, 1, 2, 6, 7, 7, 18])\n"
     ]
    }
   ],
   "source": [
    "import array\n",
    "arr = array.array('i' , [5,3,1,2,6,7,7])\n",
    "print (arr.index(7))\n",
    "print (arr.count(7))\n",
    "(arr.append(18))\n",
    "print (arr)"
   ]
  },
  {
   "cell_type": "code",
   "execution_count": 11,
   "id": "5dfa2043-b224-46ed-9b31-18d8830dff3f",
   "metadata": {},
   "outputs": [
    {
     "ename": "SyntaxError",
     "evalue": "invalid syntax (971939121.py, line 1)",
     "output_type": "error",
     "traceback": [
      "\u001b[0;36m  Cell \u001b[0;32mIn[11], line 1\u001b[0;36m\u001b[0m\n\u001b[0;31m    here are some of the potential drawbacks or disadvantages of using encapsulation in python:\u001b[0m\n\u001b[0m         ^\u001b[0m\n\u001b[0;31mSyntaxError\u001b[0m\u001b[0;31m:\u001b[0m invalid syntax\n"
     ]
    }
   ],
   "source": [
    "here are some of the potential drawbacks or disadvantages of using encapsulation in python:\n",
    "    \n",
    "(1) increase code size\n",
    "(2) reduced flexibility\n",
    "(3) increased complexity\n",
    "(4) reduced performance\n",
    "(5) increase memory usage"
   ]
  },
  {
   "cell_type": "code",
   "execution_count": 2,
   "id": "e5bf85cd-f97b-4630-bcba-b4daef1e04d6",
   "metadata": {},
   "outputs": [
    {
     "ename": "UnboundLocalError",
     "evalue": "local variable 'library' referenced before assignment",
     "output_type": "error",
     "traceback": [
      "\u001b[0;31m---------------------------------------------------------------------------\u001b[0m",
      "\u001b[0;31mUnboundLocalError\u001b[0m                         Traceback (most recent call last)",
      "Cell \u001b[0;32mIn[2], line 43\u001b[0m\n\u001b[1;32m     41\u001b[0m         \u001b[38;5;28;01melif\u001b[39;00m choice\u001b[38;5;241m==\u001b[39m\u001b[38;5;241m4\u001b[39m:\n\u001b[1;32m     42\u001b[0m             sys\u001b[38;5;241m.\u001b[39mexit()\n\u001b[0;32m---> 43\u001b[0m \u001b[43mmain\u001b[49m\u001b[43m(\u001b[49m\u001b[43m)\u001b[49m\n",
      "Cell \u001b[0;32mIn[2], line 24\u001b[0m, in \u001b[0;36mmain\u001b[0;34m()\u001b[0m\n\u001b[1;32m     23\u001b[0m \u001b[38;5;28;01mdef\u001b[39;00m \u001b[38;5;21mmain\u001b[39m():\n\u001b[0;32m---> 24\u001b[0m     library\u001b[38;5;241m=\u001b[39m\u001b[43mlibrary\u001b[49m([\u001b[38;5;124m\"\u001b[39m\u001b[38;5;124mthe last battle\u001b[39m\u001b[38;5;124m\"\u001b[39m, \u001b[38;5;124m\"\u001b[39m\u001b[38;5;124mthe screwtape letters\u001b[39m\u001b[38;5;124m\"\u001b[39m])\n\u001b[1;32m     25\u001b[0m     stuudent\u001b[38;5;241m=\u001b[39mstudent()\n\u001b[1;32m     26\u001b[0m     done\u001b[38;5;241m=\u001b[39mfalse\n",
      "\u001b[0;31mUnboundLocalError\u001b[0m: local variable 'library' referenced before assignment"
     ]
    }
   ],
   "source": [
    "class library:\n",
    "    def __init__(self,listofbooks):\n",
    "        self.availablebooks=listofbooks\n",
    "    def displayavailablebooks(self):\n",
    "        print(\"the books we have in our library are as follows:\")\n",
    "        print(\"=====================\")\n",
    "        for book in self.availablebooks:\n",
    "            print(book)\n",
    "    def lendbook(self,requestedbook):\n",
    "        if requestedbook in self.availablebooks:\n",
    "            print(\"the book you requested has now been borrowed\")\n",
    "            self.availablebooks.remove(requestedbook)\n",
    "        else:\n",
    "            print(\"sorry the book you have requested is currently not in library\")\n",
    "    def addbook(self,returnedbook):\n",
    "        self.availablebooks.append(returnedbook)\n",
    "        print(\"thanks for returningyour borrowed book\")\n",
    "class student:\n",
    "    def requestbook(self):\n",
    "        print(\"enter the name of the book you would like to borrow>>\")\n",
    "        self.book=inoput()\n",
    "        return self.book\n",
    "def main():\n",
    "    library=library([\"the last battle\", \"the screwtape letters\"])\n",
    "    stuudent=student()\n",
    "    done=false\n",
    "    while done==false:\n",
    "        print(\"\"\"=====librarymenu======\n",
    "             1. display all available books\n",
    "             2. request a book \n",
    "             3. return a book\n",
    "             4. exit\n",
    "             \"\"\")\n",
    "        choice=int(input(\"enter choice:\"))\n",
    "        if choice==1:\n",
    "                    library.displayavailablebooks()\n",
    "        elif choice==2:\n",
    "                     library.lendbook(student.requestbook())\n",
    "        elif choice==3:\n",
    "                     library.addbook(student.returnbook())\n",
    "        elif choice==4:\n",
    "            sys.exit()\n",
    "main()"
   ]
  },
  {
   "cell_type": "code",
   "execution_count": 3,
   "id": "699ed323-9eec-4243-8c91-7167db9e529f",
   "metadata": {},
   "outputs": [
    {
     "name": "stdout",
     "output_type": "stream",
     "text": [
      "customer name: karim\n",
      "customer age: 25\n",
      "customer contact: india\n"
     ]
    }
   ],
   "source": [
    "class customer:\n",
    "    def __init__(self,name,age,contact):\n",
    "        self.name=name\n",
    "        self.age=age\n",
    "        self.contact=contact\n",
    "    def display(self):\n",
    "        print(\"customer name:\",self.name)\n",
    "        print(\"customer age:\",self.age)\n",
    "        print(\"customer contact:\",self.contact)\n",
    "c = customer(\"karim\",25,\"india\")\n",
    "c.display()"
   ]
  },
  {
   "cell_type": "code",
   "execution_count": null,
   "id": "118d64cf-a1b8-45ef-900e-d4897f8936bd",
   "metadata": {},
   "outputs": [],
   "source": [
    "##polymorphism"
   ]
  },
  {
   "cell_type": "code",
   "execution_count": 4,
   "id": "807b25f2-8460-46e4-96ea-6943e803cb8b",
   "metadata": {},
   "outputs": [
    {
     "ename": "UnboundLocalError",
     "evalue": "local variable 'circle' referenced before assignment",
     "output_type": "error",
     "traceback": [
      "\u001b[0;31m---------------------------------------------------------------------------\u001b[0m",
      "\u001b[0;31mUnboundLocalError\u001b[0m                         Traceback (most recent call last)",
      "Cell \u001b[0;32mIn[4], line 35\u001b[0m\n\u001b[1;32m     32\u001b[0m     \u001b[38;5;28mprint\u001b[39m(\u001b[38;5;124m\"\u001b[39m\u001b[38;5;124mthe area of the triangle is:\u001b[39m\u001b[38;5;124m\"\u001b[39m, triangle\u001b[38;5;241m.\u001b[39mcalculate_area())\n\u001b[1;32m     34\u001b[0m \u001b[38;5;28;01mif\u001b[39;00m \u001b[38;5;18m__name__\u001b[39m \u001b[38;5;241m==\u001b[39m \u001b[38;5;124m\"\u001b[39m\u001b[38;5;124m__main__\u001b[39m\u001b[38;5;124m\"\u001b[39m:\n\u001b[0;32m---> 35\u001b[0m     \u001b[43mmain\u001b[49m\u001b[43m(\u001b[49m\u001b[43m)\u001b[49m\n",
      "Cell \u001b[0;32mIn[4], line 26\u001b[0m, in \u001b[0;36mmain\u001b[0;34m()\u001b[0m\n\u001b[1;32m     25\u001b[0m \u001b[38;5;28;01mdef\u001b[39;00m \u001b[38;5;21mmain\u001b[39m():\n\u001b[0;32m---> 26\u001b[0m     circle \u001b[38;5;241m=\u001b[39m \u001b[43mcircle\u001b[49m(\u001b[38;5;241m5\u001b[39m)\n\u001b[1;32m     27\u001b[0m     square \u001b[38;5;241m=\u001b[39m square(\u001b[38;5;241m10\u001b[39m)\n\u001b[1;32m     28\u001b[0m     triangle \u001b[38;5;241m=\u001b[39m triangle(\u001b[38;5;241m12\u001b[39m, \u001b[38;5;241m13\u001b[39m)\n",
      "\u001b[0;31mUnboundLocalError\u001b[0m: local variable 'circle' referenced before assignment"
     ]
    }
   ],
   "source": [
    "class shape:\n",
    "    def __init__(self):\n",
    "        pass\n",
    "    def calculate_area(self):\n",
    "        raise notimplementederror\n",
    "class circle(shape):\n",
    "    def __init__(self, radius):\n",
    "        super().__init__()\n",
    "        self.radius = radius\n",
    "    def calculate_area(self):\n",
    "        return math.pi*self.radius**2\n",
    "class square(shape):\n",
    "    def __init__(self, side):\n",
    "        super().__init__()\n",
    "        self.side=side\n",
    "    def calculate_area(self):\n",
    "        return self.side**2\n",
    "class triangle(shape):\n",
    "    def __init__(self, base, height):\n",
    "        super().__init__()\n",
    "        self.base = base\n",
    "        self.height = height\n",
    "    def calculate_area(self):\n",
    "        return 0.5*self.base*self.height\n",
    "def main():\n",
    "    circle = circle(5)\n",
    "    square = square(10)\n",
    "    triangle = triangle(12, 13)\n",
    "    \n",
    "    print(\"the area of the circle is:\", circle.calculate_area())\n",
    "    print(\"the area of the square is:\", square.calculate_area())\n",
    "    print(\"the area of the triangle is:\", triangle.calculate_area())\n",
    "    \n",
    "if __name__ == \"__main__\":\n",
    "    main()\n",
    "    \n"
   ]
  },
  {
   "cell_type": "code",
   "execution_count": 5,
   "id": "ca78ddca-ecc9-4da0-bb46-8e51feb3c423",
   "metadata": {},
   "outputs": [
    {
     "name": "stdout",
     "output_type": "stream",
     "text": [
      "inside parent\n",
      "inside child\n"
     ]
    }
   ],
   "source": [
    "##overriding\n",
    "class parent():\n",
    "    def __init__(self):\n",
    "        self.value = \"inside parent\"\n",
    "    def show(self):\n",
    "        print(self.value)\n",
    "class child(parent):\n",
    "    def __init__(self):\n",
    "        self.value = \"inside child\"\n",
    "    def show(self):\n",
    "        print(self.value)\n",
    "obj1 = parent()\n",
    "obj2 = child()\n",
    "obj1.show()\n",
    "obj2.show()"
   ]
  },
  {
   "cell_type": "code",
   "execution_count": 1,
   "id": "6ad7504f-3680-4d8b-b3e1-06ab727026c8",
   "metadata": {},
   "outputs": [
    {
     "name": "stdout",
     "output_type": "stream",
     "text": [
      "ford\n",
      "mustang\n",
      "move!\n",
      "ibiza\n",
      "touring20\n",
      "sail!\n",
      "boeing\n",
      "747\n",
      "fly!\n"
     ]
    }
   ],
   "source": [
    "class vehicle:\n",
    "    def __init__(self, brand, model):\n",
    "        self.brand = brand\n",
    "        self.model = model\n",
    "    def move(self):\n",
    "        print(\"move!\")\n",
    "class car(vehicle):\n",
    "    pass\n",
    "class boat(vehicle):\n",
    "    def move(self):\n",
    "        print(\"sail!\")\n",
    "class plane(vehicle):\n",
    "    def move(self):\n",
    "        print(\"fly!\")\n",
    "car1 = car(\"ford\", \"mustang\")\n",
    "boat1 = boat(\"ibiza\", \"touring20\")\n",
    "plane1 = plane(\"boeing\", \"747\")\n",
    "for x in (car1, boat1, plane1):\n",
    "    print(x.brand)\n",
    "    print(x.model)\n",
    "    x.move()"
   ]
  },
  {
   "cell_type": "code",
   "execution_count": 4,
   "id": "bb718b1e-53a1-402d-b5b7-fdd24be9401c",
   "metadata": {},
   "outputs": [
    {
     "name": "stdout",
     "output_type": "stream",
     "text": [
      "3\n",
      "helloworld\n",
      "3\n",
      "helloworld\n",
      "3\n",
      "helloworld\n"
     ]
    }
   ],
   "source": [
    "class A:\n",
    "    def __init__(self, a):\n",
    "        self.a = a\n",
    "    def __add__(self, o):\n",
    "        return self.a + o.a\n",
    "ob1 = A(1)\n",
    "ob2 = A(2)\n",
    "ob3 = A(\"hello\")\n",
    "ob4 = A(\"world\")\n",
    "print(ob1 +ob2)\n",
    "print(ob3 + ob4)\n",
    "print(A.__add__(ob1, ob2))\n",
    "print(A.__add__(ob3,ob4))\n",
    "print(ob1.__add__(ob2))\n",
    "print(ob3.__add__(ob4))"
   ]
  },
  {
   "cell_type": "code",
   "execution_count": null,
   "id": "1cbf3abc-4ee0-4cfc-9c0c-4aa2d8405bbb",
   "metadata": {},
   "outputs": [],
   "source": [
    "##abstraction:"
   ]
  },
  {
   "cell_type": "code",
   "execution_count": 2,
   "id": "4817404c-f2d3-4c89-94ee-9132ee07dbb2",
   "metadata": {},
   "outputs": [
    {
     "name": "stdout",
     "output_type": "stream",
     "text": [
      "area of a rectangle: 24\n",
      "area of a circle: 153.86\n",
      "area of a square: 16\n",
      "area of a triangle: 10.0\n"
     ]
    }
   ],
   "source": [
    "from abc import ABC\n",
    "class type_shape(ABC):\n",
    "    def area(self):\n",
    "        pass\n",
    "class rectangle(type_shape):\n",
    "    length = 6\n",
    "    breadth = 4\n",
    "    def area(self):\n",
    "        return self.length*self.breadth\n",
    "class circle(type_shape):\n",
    "    radius = 7\n",
    "    def area(self):\n",
    "        return 3.14*self.radius*self.radius\n",
    "class square(type_shape):\n",
    "    length = 4\n",
    "    def area(self):\n",
    "        return self.length*self.length\n",
    "class triangle:\n",
    "    length = 5\n",
    "    width = 4\n",
    "    def area(self):\n",
    "        return 0.5*self.length*self.width\n",
    "r = rectangle()\n",
    "c = circle()\n",
    "s = square()\n",
    "t = triangle()\n",
    "print(\"area of a rectangle:\", r.area())\n",
    "print(\"area of a circle:\", c.area())\n",
    "print(\"area of a square:\", s.area())\n",
    "print(\"area of a triangle:\", t.area())"
   ]
  },
  {
   "cell_type": "code",
   "execution_count": 4,
   "id": "3014025b-cbf0-450c-a6f8-826c2610d2c4",
   "metadata": {},
   "outputs": [
    {
     "name": "stdout",
     "output_type": "stream",
     "text": [
      "hello!!!welcometo the deposite & withdrawl machine\n"
     ]
    },
    {
     "name": "stdin",
     "output_type": "stream",
     "text": [
      "enter amount to be deposited: 500\n"
     ]
    },
    {
     "name": "stdout",
     "output_type": "stream",
     "text": [
      "\n",
      " amount deposited: 500.0\n"
     ]
    },
    {
     "name": "stdin",
     "output_type": "stream",
     "text": [
      "enter amount to be withdrawl: 400\n"
     ]
    },
    {
     "name": "stdout",
     "output_type": "stream",
     "text": [
      "\n",
      " you withdrew: 400.0\n",
      "\n",
      " net available balance= 100.0\n"
     ]
    }
   ],
   "source": [
    "class bank_account:\n",
    "    def __init__(self):\n",
    "        self.balance=0\n",
    "        print(\"hello!!!welcometo the deposite & withdrawl machine\")\n",
    "    def deposite(self):\n",
    "        amount=float(input(\"enter amount to be deposited:\"))\n",
    "        self.balance += amount\n",
    "        print(\"\\n amount deposited:\", amount)\n",
    "    def withdrawl(self):\n",
    "        amount = float(input(\"enter amount to be withdrawl:\"))\n",
    "        if self.balance>=amount:\n",
    "            self.balance-=amount\n",
    "            print(\"\\n you withdrew:\", amount)\n",
    "        else:\n",
    "            print(\"\\n insufficient balance\")\n",
    "    def display(self):\n",
    "        print(\"\\n net available balance=\", self.balance)\n",
    "s = bank_account()\n",
    "s.deposite()\n",
    "s.withdrawl()\n",
    "s.display()"
   ]
  },
  {
   "cell_type": "code",
   "execution_count": 7,
   "id": "b2e0b54e-3855-4eee-a118-8e364c5a560d",
   "metadata": {},
   "outputs": [
    {
     "name": "stdout",
     "output_type": "stream",
     "text": [
      "i am eating!\n",
      "i am sleeping!\n"
     ]
    }
   ],
   "source": [
    "from abc import ABC, abstractmethod\n",
    "class animal(ABC):\n",
    "    def eat(self):\n",
    "        pass\n",
    "    def sleep(self):\n",
    "        pass\n",
    "class mammal(animal):\n",
    "    def eat(self):\n",
    "        print(\"i am eating!\")\n",
    "    def sleep(self):\n",
    "        print(\"i am sleeping!\")\n",
    "class bird(animal):\n",
    "    def eat(self):\n",
    "        print(\"i am pecking at the ground!\")\n",
    "    def sleep(self):\n",
    "        print(\"i am roosting in the tree!\")\n",
    "class fish(animal):\n",
    "    def eat(self):\n",
    "        print(\"i am swimming and sleeping in the water!\")\n",
    "if __name__==\"++main__\":\n",
    "    animals = [mammal(), bird(), fish()]\n",
    "    for animal in animals:\n",
    "        animal.eat()\n",
    "        animal.sleep()\n",
    "mammal = mammal()\n",
    "mammal.eat()\n",
    "mammal.sleep()"
   ]
  },
  {
   "cell_type": "code",
   "execution_count": 11,
   "id": "255a0dd6-55ea-4b77-ad7a-84cb60ec079d",
   "metadata": {},
   "outputs": [
    {
     "ename": "UnboundLocalError",
     "evalue": "local variable 'truck' referenced before assignment",
     "output_type": "error",
     "traceback": [
      "\u001b[0;31m---------------------------------------------------------------------------\u001b[0m",
      "\u001b[0;31mUnboundLocalError\u001b[0m                         Traceback (most recent call last)",
      "Cell \u001b[0;32mIn[11], line 38\u001b[0m\n\u001b[1;32m     36\u001b[0m     truck\u001b[38;5;241m.\u001b[39mstop()\n\u001b[1;32m     37\u001b[0m \u001b[38;5;28;01mif\u001b[39;00m \u001b[38;5;18m__name__\u001b[39m \u001b[38;5;241m==\u001b[39m \u001b[38;5;124m\"\u001b[39m\u001b[38;5;124m__main__\u001b[39m\u001b[38;5;124m\"\u001b[39m:\n\u001b[0;32m---> 38\u001b[0m     \u001b[43mmain\u001b[49m\u001b[43m(\u001b[49m\u001b[43m)\u001b[49m\n",
      "Cell \u001b[0;32mIn[11], line 32\u001b[0m, in \u001b[0;36mmain\u001b[0;34m()\u001b[0m\n\u001b[1;32m     31\u001b[0m \u001b[38;5;28;01mdef\u001b[39;00m \u001b[38;5;21mmain\u001b[39m():\n\u001b[0;32m---> 32\u001b[0m     truck \u001b[38;5;241m=\u001b[39m \u001b[43mtruck\u001b[49m(\u001b[38;5;124m\"\u001b[39m\u001b[38;5;124mford\u001b[39m\u001b[38;5;124m\"\u001b[39m, \u001b[38;5;124m\"\u001b[39m\u001b[38;5;124mf-150\u001b[39m\u001b[38;5;124m\"\u001b[39m, \u001b[38;5;241m2022\u001b[39m, \u001b[38;5;241m10000\u001b[39m)\n\u001b[1;32m     33\u001b[0m     truck\u001b[38;5;241m.\u001b[39mstart()\n\u001b[1;32m     34\u001b[0m     truck\u001b[38;5;241m.\u001b[39maccelerate()\n",
      "\u001b[0;31mUnboundLocalError\u001b[0m: local variable 'truck' referenced before assignment"
     ]
    }
   ],
   "source": [
    "from abc import ABC\n",
    "class vehicle(ABC):\n",
    "    \"\"\"this class represents a vehicle.\"\"\"\n",
    "    def start(self):\n",
    "        \"\"\"starts the vehicle.\"\"\"\n",
    "    def stop(self):\n",
    "        \"\"\"stops the vehicle.\"\"\"\n",
    "    def accelerate(self):\n",
    "        \"\"\"accelerates the vehicle.\"\"\"\n",
    "    def decelerate(self):\n",
    "        \"\"\"decelerates the vehicle.\"\"\"\n",
    "class Truck(vehicle):\n",
    "    \"\"\"this class represents a truck.\"\"\"\n",
    "    def __init__(self, make, model, year, capacity):\n",
    "        \"\"\"initializes a new truck.\"\"\"\n",
    "        self.make = make\n",
    "        self.model = model\n",
    "        self.year = year\n",
    "        self.capacity = capacity\n",
    "    def start(self):\n",
    "        \"\"\"starts the truck.\"\"\"\n",
    "        print(\"starting the truck.\")\n",
    "    def stop(self):\n",
    "        \"\"\"stops the truck\"\"\"\n",
    "        print(\"stopping the truck.\")\n",
    "    def accelerate(self):\n",
    "        \"\"\"accelerates the truck.\"\"\"\n",
    "    def decelerate(self):\n",
    "        \"\"\"decelerates the truck.\"\"\"\n",
    "        print(\"decelerating the truck.\")\n",
    "def main():\n",
    "    truck = truck(\"ford\", \"f-150\", 2022, 10000)\n",
    "    truck.start()\n",
    "    truck.accelerate()\n",
    "    truck.decelerate()\n",
    "    truck.stop()\n",
    "if __name__ == \"__main__\":\n",
    "    main()\n",
    "        "
   ]
  },
  {
   "cell_type": "code",
   "execution_count": 4,
   "id": "f9659d6d-3b32-4bb5-8b44-dd137199c767",
   "metadata": {},
   "outputs": [
    {
     "ename": "TypeError",
     "evalue": "manager() takes no arguments",
     "output_type": "error",
     "traceback": [
      "\u001b[0;31m---------------------------------------------------------------------------\u001b[0m",
      "\u001b[0;31mTypeError\u001b[0m                                 Traceback (most recent call last)",
      "Cell \u001b[0;32mIn[4], line 32\u001b[0m\n\u001b[1;32m     29\u001b[0m         \u001b[38;5;124;03m\"\"\"this method is specific to developers and is not implemented by all employees.\"\"\"\u001b[39;00m\n\u001b[1;32m     30\u001b[0m         \u001b[38;5;28;01mpass\u001b[39;00m\n\u001b[1;32m     31\u001b[0m employees \u001b[38;5;241m=\u001b[39m [\n\u001b[0;32m---> 32\u001b[0m     \u001b[43mmanager\u001b[49m\u001b[43m(\u001b[49m\u001b[38;5;124;43m\"\u001b[39;49m\u001b[38;5;124;43mjohn doe\u001b[39;49m\u001b[38;5;124;43m\"\u001b[39;49m\u001b[43m,\u001b[49m\u001b[43m \u001b[49m\u001b[38;5;241;43m10000\u001b[39;49m\u001b[43m,\u001b[49m\u001b[43m \u001b[49m\u001b[38;5;124;43m\"\u001b[39;49m\u001b[38;5;124;43mteam\u001b[39;49m\u001b[38;5;124;43m\"\u001b[39;49m\u001b[43m)\u001b[49m,\n\u001b[1;32m     33\u001b[0m              developer(\u001b[38;5;124m\"\u001b[39m\u001b[38;5;124mjohn doe\u001b[39m\u001b[38;5;124m\"\u001b[39m, \u001b[38;5;241m7500\u001b[39m, \u001b[38;5;124m\"\u001b[39m\u001b[38;5;124mpython\u001b[39m\u001b[38;5;124m\"\u001b[39m)\n\u001b[1;32m     34\u001b[0m ]\n\u001b[1;32m     35\u001b[0m \u001b[38;5;28;01mfor\u001b[39;00m employee \u001b[38;5;129;01min\u001b[39;00m employees:\n\u001b[1;32m     36\u001b[0m     employee\u001b[38;5;241m.\u001b[39mwork()\n",
      "\u001b[0;31mTypeError\u001b[0m: manager() takes no arguments"
     ]
    }
   ],
   "source": [
    "class employee:\n",
    "    \"\"\"this is the base class for all employees.\"\"\"\n",
    "    def ___init___(self, name, salary):\n",
    "        self.name = name\n",
    "        self.salary = salary\n",
    "    def work(self):\n",
    "        \"\"\"this method is abstract and must be implemented by all subclasses.\"\"\"\n",
    "        raise notimplementederror\n",
    "class manager(employee):\n",
    "    \"\"\"this class represents a manager.\"\"\"\n",
    "    def ___init__(self, name, salary, team):\n",
    "        super().__init__(name, salary)\n",
    "        self.team = team\n",
    "    def work(self):\n",
    "        \"\"\"this method implements the work() method for managers.\"\"\"\n",
    "        self.manage_team()\n",
    "    def manage_team(self):\n",
    "        \"\"\"this method is specific to managers and is not implemented by all employees.\"\"\"\n",
    "        pass\n",
    "class developer(employee):\n",
    "    \"\"\"this class represents a developer.\"\"\"\n",
    "    def __init__(self, name, salary, language):\n",
    "        super().__init__(name, salary)\n",
    "        self.language = language\n",
    "    def work(self):\n",
    "        \"\"\"this method implements the work() method for developers.\"\"\"\n",
    "        self.write_code()\n",
    "    def write_code(self):\n",
    "        \"\"\"this method is specific to developers and is not implemented by all employees.\"\"\"\n",
    "        pass\n",
    "employees = [\n",
    "    manager(\"john doe\", 10000, \"team\"),\n",
    "             developer(\"john doe\", 7500, \"python\")\n",
    "]\n",
    "for employee in employees:\n",
    "    employee.work()\n",
    "    "
   ]
  },
  {
   "cell_type": "code",
   "execution_count": 6,
   "id": "24cc8f0b-6a28-4e37-9e44-1821e1b76db6",
   "metadata": {},
   "outputs": [
    {
     "name": "stdout",
     "output_type": "stream",
     "text": [
      "powering on the laptop...\n",
      "shuting down the laptop...\n",
      "shutting down the desktop...\n"
     ]
    }
   ],
   "source": [
    "from abc import ABC, abstractmethod\n",
    "class computersystem(ABC):\n",
    "    \"\"\"Abstract base class for a computer system.\"\"\"\n",
    "    def power_on(self):\n",
    "        \"\"\"powers on the computer system.\"\"\"\n",
    "    def shutdown(self):\n",
    "        \"\"\"shuts down the computer system.\"\"\"\n",
    "class laptop(computersystem):\n",
    "    \"\"\"concrete class for a laptop computer system.\"\"\"\n",
    "    def power_on(self):\n",
    "        \"\"\"powers on the laptop computer system.\"\"\"\n",
    "        print(\"powering on the laptop...\")\n",
    "    def shutdown(self):\n",
    "        \"\"\"shuts down the laptop computer system.\"\"\"\n",
    "        print(\"shuting down the laptop...\")\n",
    "class desktop(computersystem):\n",
    "    \"\"\"concrete class for a desktop computer system.\"\"\"\n",
    "    def power_on(self):\n",
    "        \"\"\"shuts down the desktop computer system.\"\"\"\n",
    "        print(\"shutting down the desktop...\")\n",
    "laptop = laptop()\n",
    "laptop.power_on()\n",
    "laptop.shutdown()\n",
    "desktop = desktop()\n",
    "desktop.power_on()\n",
    "desktop.shutdown()\n",
    "\n",
    "              "
   ]
  },
  {
   "cell_type": "code",
   "execution_count": null,
   "id": "18fdafa7-db44-4ecf-b946-3989356504bb",
   "metadata": {},
   "outputs": [],
   "source": [
    "##composition##"
   ]
  },
  {
   "cell_type": "code",
   "execution_count": 8,
   "id": "53f7e153-1dee-4b71-8219-22b9ce064120",
   "metadata": {},
   "outputs": [
    {
     "name": "stdout",
     "output_type": "stream",
     "text": [
      "the odyssey homer 8th century bc\n"
     ]
    }
   ],
   "source": [
    "class author:\n",
    "    def __init__(self, name, birthdate):\n",
    "        self.name = name\n",
    "        self.birthdate = birthdate\n",
    "class book:\n",
    "    def __init__(self, title, author):\n",
    "        self.title = title\n",
    "        self.author = author\n",
    "book = book(\"the odyssey\", author(\"homer\", \"8th century bc\"))\n",
    "print(book.title, book.author.name, book.author.birthdate)"
   ]
  },
  {
   "cell_type": "code",
   "execution_count": 9,
   "id": "d51ad620-d37a-4023-bbf0-204b394d4735",
   "metadata": {},
   "outputs": [
    {
     "name": "stdout",
     "output_type": "stream",
     "text": [
      "component class object created...\n",
      "composite class object also created...\n",
      "composite class m2() method executed...\n"
     ]
    },
    {
     "ename": "AttributeError",
     "evalue": "'component' object has no attribute 'm1'",
     "output_type": "error",
     "traceback": [
      "\u001b[0;31m---------------------------------------------------------------------------\u001b[0m",
      "\u001b[0;31mAttributeError\u001b[0m                            Traceback (most recent call last)",
      "Cell \u001b[0;32mIn[9], line 14\u001b[0m\n\u001b[1;32m     12\u001b[0m         \u001b[38;5;28mself\u001b[39m\u001b[38;5;241m.\u001b[39mobj1\u001b[38;5;241m.\u001b[39mm1()\n\u001b[1;32m     13\u001b[0m obj2 \u001b[38;5;241m=\u001b[39m composite()\n\u001b[0;32m---> 14\u001b[0m \u001b[43mobj2\u001b[49m\u001b[38;5;241;43m.\u001b[39;49m\u001b[43mm2\u001b[49m\u001b[43m(\u001b[49m\u001b[43m)\u001b[49m\n",
      "Cell \u001b[0;32mIn[9], line 12\u001b[0m, in \u001b[0;36mcomposite.m2\u001b[0;34m(self)\u001b[0m\n\u001b[1;32m     10\u001b[0m \u001b[38;5;28;01mdef\u001b[39;00m \u001b[38;5;21mm2\u001b[39m(\u001b[38;5;28mself\u001b[39m):\n\u001b[1;32m     11\u001b[0m     \u001b[38;5;28mprint\u001b[39m(\u001b[38;5;124m'\u001b[39m\u001b[38;5;124mcomposite class m2() method executed...\u001b[39m\u001b[38;5;124m'\u001b[39m)\n\u001b[0;32m---> 12\u001b[0m     \u001b[38;5;28;43mself\u001b[39;49m\u001b[38;5;241;43m.\u001b[39;49m\u001b[43mobj1\u001b[49m\u001b[38;5;241;43m.\u001b[39;49m\u001b[43mm1\u001b[49m()\n",
      "\u001b[0;31mAttributeError\u001b[0m: 'component' object has no attribute 'm1'"
     ]
    }
   ],
   "source": [
    "class component:\n",
    "    def __init__(self):\n",
    "        print('component class object created...')\n",
    "        def m1(self):\n",
    "            print('component class m1() method executed...')\n",
    "class composite:\n",
    "    def __init__(self):\n",
    "        self.obj1 = component()\n",
    "        print('composite class object also created...')\n",
    "    def m2(self):\n",
    "        print('composite class m2() method executed...')\n",
    "        self.obj1.m1()\n",
    "obj2 = composite()\n",
    "obj2.m2()"
   ]
  },
  {
   "cell_type": "code",
   "execution_count": 12,
   "id": "99647e50-0710-4c7c-bde2-b277d75ba1f5",
   "metadata": {},
   "outputs": [
    {
     "name": "stdout",
     "output_type": "stream",
     "text": [
      "playing song 1 by artist 1\n"
     ]
    }
   ],
   "source": [
    "class song:\n",
    "    def __init__(self, title, artist, album, length):\n",
    "        self.title = title\n",
    "        self.artist = artist\n",
    "        self.album = album\n",
    "        self.length = length\n",
    "    def __str__(self):\n",
    "        return f\"{self.title} by {self.artist}\"\n",
    "class playlist:\n",
    "    def __init__(self, name):\n",
    "        self.name = name\n",
    "        self.songs = []\n",
    "    def add_song(self, song):\n",
    "        self.songs.append(song)\n",
    "    def remove_song(self, song):\n",
    "        self.songs.remove(song)\n",
    "    def __str__(self):\n",
    "        return f\"{self.name} playlist: {', '.join(song.title for song in self.songs)}\"\n",
    "class musicplayer:\n",
    "    def __init__(self):\n",
    "        self.playlists = []\n",
    "    def add_playlist(self, playlist):\n",
    "        self.playlists.append(playlist)\n",
    "    def remove_playlist(self, playlist):\n",
    "        self.playlists.remove(playlist)\n",
    "    def set_current_playlist(self, playlist):\n",
    "        self.current_playlist = playlist\n",
    "    def play(self):\n",
    "        current_song = self.current_playlist.songs[0]\n",
    "        print(f\"playing {current_song}\")\n",
    "if __name__==\"__main__\":\n",
    "    music_player = musicplayer()\n",
    "    playlist1 = playlist(\"my playlist\")\n",
    "    playlist2 = playlist(\"another playlist\")\n",
    "    song1 = song(\"song 1\", \"artist 1\", \"album 1\", 300)\n",
    "    song2 = song(\"song 2\", \"artist 2\", \"album2\", 400)\n",
    "    playlist1.add_song(song1)\n",
    "    playlist1.add_song(song2)\n",
    "    music_player.add_playlist(playlist1)\n",
    "    music_player.add_playlist(playlist2)\n",
    "    music_player.set_current_playlist(playlist1)\n",
    "    music_player.play()\n",
    "        "
   ]
  },
  {
   "cell_type": "code",
   "execution_count": 3,
   "id": "1803ecb0-f678-41b0-be6b-a1fc87b1de2b",
   "metadata": {},
   "outputs": [],
   "source": [
    "##book object##\n",
    "\n",
    "class book:\n",
    "    def __init__(self, title, author, description, pub_date, isbn, copies_available, checked_out_by):\n",
    "        self.title = title\n",
    "        self.author = author\n",
    "        self.description = description\n",
    "        self.pub_date = pub_date\n",
    "        self.isbn = isbn\n",
    "        self.copies_available = copies_available\n",
    "        self.checked_out_by = checked_out_by\n",
    "    def checkout(self, name):\n",
    "        self.checked_out_by.append(name)\n",
    "        self.copies_available -+ 1\n",
    "    def check_in(self, name):\n",
    "        self.checked_out_by.remove(name)\n",
    "        self.copies_available += 1\n",
    "    def add_copies(self, number):\n",
    "        self.copies_available += number\n",
    "    def remove_copies(self, number):\n",
    "        self.copies_available -+ number\n",
    "                   "
   ]
  },
  {
   "cell_type": "code",
   "execution_count": 5,
   "id": "fdd7be2e-acfd-4e1c-9c48-99117d015770",
   "metadata": {},
   "outputs": [],
   "source": [
    "class computersystem:\n",
    "    def __init__(self, cpu, ram, storage):\n",
    "        self.cpu = cpu\n",
    "        self.ram = ram\n",
    "        self.storage = storage\n",
    "    def get_cpu(self):\n",
    "        return self.cpu\n",
    "    def get_ram(self):\n",
    "        return self.ram\n",
    "    def get_storage(self):\n",
    "        return self.storage\n",
    "    def __str__(self):\n",
    "        return f\"computersystem(cpu={self.cpu}, ram={self.ram}, storage={self.storage})\""
   ]
  },
  {
   "cell_type": "code",
   "execution_count": 6,
   "id": "379fc74b-59c8-42f3-b02e-cf0efa3c0458",
   "metadata": {},
   "outputs": [
    {
     "name": "stdout",
     "output_type": "stream",
     "text": [
      "engine started\n",
      "shifted gears\n",
      "wheels are turning\n"
     ]
    }
   ],
   "source": [
    "class engine:\n",
    "    def start(self):\n",
    "        print(\"engine started\")\n",
    "class transmission:\n",
    "    def shift_gears(self):\n",
    "        print(\"shifted gears\")\n",
    "class wheels:\n",
    "    def turn(self):\n",
    "        print(\"wheels are turning\")\n",
    "class car:\n",
    "    def __init__(self, engine, transmission, wheels):\n",
    "        self.engine = engine\n",
    "        self.transmission = transmission\n",
    "        self.wheels = wheels\n",
    "    def drive(self):\n",
    "        self.engine.start()\n",
    "        self.transmission.shift_gears()\n",
    "        self.wheels.turn()\n",
    "my_car = car(engine(), transmission(), wheels())\n",
    "my_car.drive()"
   ]
  },
  {
   "cell_type": "code",
   "execution_count": 8,
   "id": "7d8b1c02-b5a6-4e69-a7da-ef3180b44516",
   "metadata": {},
   "outputs": [],
   "source": [
    "class course(object):\n",
    "    def __init__(self, course_number):\n",
    "        self.course_number = int(course_number)\n",
    "    def get_course_number(self):\n",
    "        print (self.course_number)\n",
    "    def add_student(self, student):\n",
    "        self.list=[]\n",
    "        self.student=student\n",
    "        self.list.append(student)\n",
    "    def drop_student(self, student_id):\n",
    "        self.student_id= student_id\n",
    "        if student_id in self.student:\n",
    "            del self.student[student_id]\n",
    "    def get_roster(self):\n",
    "        print (sorted(self.student))\n",
    "        \n",
    "        "
   ]
  },
  {
   "cell_type": "code",
   "execution_count": 10,
   "id": "32fef1d9-87d0-4662-8cbf-f001ac8f9f43",
   "metadata": {},
   "outputs": [
    {
     "name": "stdout",
     "output_type": "stream",
     "text": [
      "desert\n",
      "cake\n"
     ]
    }
   ],
   "source": [
    "class ingredient:\n",
    "    def __init__(self, name, quantity):\n",
    "        self.name = name\n",
    "        self.quantity = quantity\n",
    "class dish:\n",
    "    def __init__(self, name, ingredients):\n",
    "        self.name = name\n",
    "        self.ingredients = ingredients\n",
    "class menu:\n",
    "    def __init__(self, name, dishes):\n",
    "        self.name = name\n",
    "        self.dishes = dishes\n",
    "ingredient1 = ingredient(\"flour\", 100)\n",
    "ingredient2 = ingredient(\"suger\", 50)\n",
    "dish1 = dish(\"cake\", [ingredient1, ingredient2])\n",
    "menu1 = menu(\"desert\", [dish1])\n",
    "print(menu1.name)\n",
    "for dish in menu1.dishes:\n",
    "    print(dish.name)"
   ]
  }
 ],
 "metadata": {
  "kernelspec": {
   "display_name": "Python 3 (ipykernel)",
   "language": "python",
   "name": "python3"
  },
  "language_info": {
   "codemirror_mode": {
    "name": "ipython",
    "version": 3
   },
   "file_extension": ".py",
   "mimetype": "text/x-python",
   "name": "python",
   "nbconvert_exporter": "python",
   "pygments_lexer": "ipython3",
   "version": "3.10.8"
  }
 },
 "nbformat": 4,
 "nbformat_minor": 5
}
